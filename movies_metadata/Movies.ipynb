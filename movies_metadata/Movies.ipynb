{
 "cells": [
  {
   "cell_type": "markdown",
   "id": "innovative-middle",
   "metadata": {},
   "source": [
    "# Import Libraries"
   ]
  },
  {
   "cell_type": "code",
   "execution_count": 1,
   "id": "referenced-television",
   "metadata": {},
   "outputs": [],
   "source": [
    "# Linear algebra\n",
    "import numpy as np\n",
    "#Storage data\n",
    "import pandas as pd\n",
    "#Helper function that helps traverse an abstract syntax tree\n",
    "from ast import literal_eval\n",
    "# Statistical data visualization\n",
    "import seaborn as sns\n",
    "# Generate plots\n",
    "import matplotlib.pyplot as plt\n",
    "# Generate interactive plots\n",
    "#!pip install plotly==5.8.0 \n",
    "from plotly.offline import init_notebook_mode, plot, iplot\n",
    "import plotly.graph_objs as go\n",
    "# Convert String in Datetime \n",
    "from datetime import datetime"
   ]
  },
  {
   "cell_type": "markdown",
   "id": "parental-recycling",
   "metadata": {},
   "source": [
    "## Load Main Dataset from CSV"
   ]
  },
  {
   "cell_type": "code",
   "execution_count": null,
   "id": "involved-singles",
   "metadata": {},
   "outputs": [],
   "source": [
    "# DATASET FROM : https://www.kaggle.com/datasets/rounakbanik/the-movies-dataset?select=movies_metadata.csv\n",
    "\n",
    "# Read csv\n",
    "movies =  pd.read_csv('movies_metadata.csv',\n",
    "                     skiprows=[19731, 29504, 35588]) ## Filas que tienen un error en el dataset\n",
    "## Extract Genres in List\n",
    "movies['genres'] = movies['genres'].apply(lambda x: [i['name'] for i in literal_eval(x)])\n",
    "\n",
    "## Add year movie realised \n",
    "\n",
    "movies['release_date'] = pd.to_datetime(movies['release_date'], errors='coerce')\n",
    "movies['year'] = movies['release_date'].apply(lambda x : x.year)\n",
    "movies.head()"
   ]
  },
  {
   "cell_type": "markdown",
   "id": "cutting-weekend",
   "metadata": {},
   "source": [
    "## Dataset info"
   ]
  },
  {
   "cell_type": "code",
   "execution_count": null,
   "id": "first-mercury",
   "metadata": {},
   "outputs": [],
   "source": [
    "movies.info()"
   ]
  },
  {
   "cell_type": "markdown",
   "id": "defensive-territory",
   "metadata": {},
   "source": [
    "### Filling percentage of each column of dataset"
   ]
  },
  {
   "cell_type": "code",
   "execution_count": null,
   "id": "enhanced-transport",
   "metadata": {},
   "outputs": [],
   "source": [
    "missing_columns = movies.isnull().sum().reset_index()\n",
    "missing_columns.columns = ['variables', 'nan_values']\n",
    "missing_columns['filling_factor'] = (movies.shape[0] \n",
    "                                - missing_columns['nan_values']) / movies.shape[0] * 100\n",
    "missing_columns"
   ]
  },
  {
   "cell_type": "code",
   "execution_count": null,
   "id": "necessary-biodiversity",
   "metadata": {},
   "outputs": [],
   "source": [
    "# Generate Figure\n",
    "fig = go.Figure(go.Bar(\n",
    "            y=missing_columns['filling_factor'],\n",
    "            x=missing_columns['variables']))\n",
    "\n",
    "fig.show()"
   ]
  },
  {
   "cell_type": "markdown",
   "id": "expanded-addition",
   "metadata": {},
   "source": [
    "The good news is that the variables we want to use for this notebook have few NaN values."
   ]
  },
  {
   "cell_type": "markdown",
   "id": "comparative-water",
   "metadata": {},
   "source": [
    "## When did the movies hit the big screen?"
   ]
  },
  {
   "cell_type": "code",
   "execution_count": null,
   "id": "located-hawaii",
   "metadata": {},
   "outputs": [],
   "source": [
    "# We count how many movies were released each year, then order from the oldest year\n",
    "movies_per_year = movies['year'].value_counts().sort_index()\n",
    "movies_per_year.head()\n",
    "\n",
    "## We generate Scatter\n",
    "sc = go.Scatter(x=movies_per_year.index,\n",
    "                y=movies_per_year.values,\n",
    "                marker = {'color':'#1d00db'})\n",
    "## Generame layout\n",
    "lyt = {'title':f\"{movies['year'].shape[0]} Films classified by release year from this Dataset\",\n",
    "         'xaxis':{'title':'Release Year'},\n",
    "         'yaxis':{'title':'Films'}}\n",
    "\n",
    "## Generate plot\n",
    "fig = go.Figure(data=[sc], layout=lyt)\n",
    "iplot(fig)"
   ]
  },
  {
   "cell_type": "markdown",
   "id": "major-mercury",
   "metadata": {},
   "source": [
    "(Release Year, number of films made that year )"
   ]
  },
  {
   "cell_type": "markdown",
   "id": "filled-teach",
   "metadata": {},
   "source": [
    "## Most popular original language of Films"
   ]
  },
  {
   "cell_type": "code",
   "execution_count": null,
   "id": "impossible-tracker",
   "metadata": {
    "scrolled": true
   },
   "outputs": [],
   "source": [
    "langs = movies['original_language'].value_counts()\n",
    "or_languages_film = pd.DataFrame(langs[:10])\n",
    "or_languages_film.loc['Other languages', :] = langs[10:].sum()\n",
    "print(or_languages_film)"
   ]
  },
  {
   "cell_type": "code",
   "execution_count": null,
   "id": "white-oracle",
   "metadata": {},
   "outputs": [],
   "source": [
    "sc= go.Pie(labels=or_languages_film.index, values=or_languages_film.values.flatten())\n",
    "\n",
    "lyt = {'title':'Films by language'}\n",
    "\n",
    "fig = go.Figure(data=[sc],layout=lyt)\n",
    "\n",
    "fig.show()"
   ]
  },
  {
   "cell_type": "markdown",
   "id": "going-recipient",
   "metadata": {},
   "source": [
    "## Most Popular Categorys of Films "
   ]
  },
  {
   "cell_type": "code",
   "execution_count": null,
   "id": "muslim-heath",
   "metadata": {},
   "outputs": [],
   "source": [
    "films_category = pd.Series(np.concatenate(movies['genres'])).value_counts()\n",
    "films_category"
   ]
  },
  {
   "cell_type": "code",
   "execution_count": null,
   "id": "planned-ethernet",
   "metadata": {},
   "outputs": [],
   "source": [
    "sc= go.Bar(x=films_category.values,\n",
    "           y=films_category.index, orientation='h')\n",
    "\n",
    "lyt = {'title':'Films by category',\n",
    "         'xaxis':{'title':'Number of Films'},\n",
    "         'yaxis':{'title':'Categories'}}\n",
    "\n",
    "fig = go.Figure(data=[sc],layout=lyt)\n",
    "\n",
    "fig.show()"
   ]
  },
  {
   "cell_type": "markdown",
   "id": "weighted-examination",
   "metadata": {},
   "source": [
    "## Countries with the most film production"
   ]
  },
  {
   "cell_type": "code",
   "execution_count": null,
   "id": "bacterial-stationery",
   "metadata": {
    "scrolled": true
   },
   "outputs": [],
   "source": [
    "# movies['production_countries'] = movies.loc[movies['production_countries'].notna(), 'production_countries'].str.split(\"'name': \").str[1].str.split(\"'\").str[1]\n",
    "# production_countries = pd.Series(movies['production_countries']).value_counts()\n",
    "movies['production_countries'] = movies['production_countries'].replace(np.nan,'unknown')\n",
    "movies['production_countries'] = movies['production_countries'].apply(lambda x: ['unknown'] if x=='unknown' else [i['name'] for i in literal_eval(x)])"
   ]
  },
  {
   "cell_type": "code",
   "execution_count": null,
   "id": "appointed-sharp",
   "metadata": {},
   "outputs": [],
   "source": [
    "production_countries = pd.Series(np.concatenate(movies['production_countries'])).value_counts()\n",
    "production_countries"
   ]
  },
  {
   "cell_type": "code",
   "execution_count": null,
   "id": "floral-chart",
   "metadata": {},
   "outputs": [],
   "source": [
    "sc= go.Bar(x=production_countries.values[:15],\n",
    "           y=production_countries.index[:15], orientation='h')\n",
    "\n",
    "lyt = {'title':'15 countries with the most film production ',\n",
    "         'xaxis':{'title':'Number of Films produced'},\n",
    "         'yaxis':{'title':'Countries'}}\n",
    "\n",
    "fig = go.Figure(data=[sc],layout=lyt)\n",
    "\n",
    "fig.show()"
   ]
  },
  {
   "cell_type": "markdown",
   "id": "institutional-thanks",
   "metadata": {},
   "source": [
    "### Greater number of films by category by country"
   ]
  },
  {
   "cell_type": "code",
   "execution_count": null,
   "id": "artistic-hampton",
   "metadata": {},
   "outputs": [],
   "source": [
    "# for this reason, we need create a function that compute most category by film for each country\n",
    "def mostCategoresProducedByCountry(country:str):\n",
    "    def select_country(countries:list):\n",
    "        flag = False\n",
    "        for c in countries:\n",
    "            if c==country:\n",
    "                flag = True\n",
    "        return flag\n",
    "    # select films that has been produced in this country\n",
    "    df = movies.loc[movies['production_countries'].apply(select_country)][['production_countries','genres']].reset_index()\n",
    "    # count the categories\n",
    "    cat_counts = pd.Series(np.concatenate(df['genres'])).value_counts()\n",
    "    ## Generate Bar\n",
    "    scx= go.Bar(x=cat_counts.values, y=cat_counts.index, orientation='h')\n",
    "\n",
    "    lytx = {'title':f'Films by category : {country}',\n",
    "             'xaxis':{'title':'Number of Films'},\n",
    "             'yaxis':{'title':'Categories'}}\n",
    "\n",
    "    figx = go.Figure(data=[scx],layout=lytx)\n",
    "\n",
    "    figx.show()\n"
   ]
  },
  {
   "cell_type": "markdown",
   "id": "stunning-greeting",
   "metadata": {},
   "source": [
    "### United States of America"
   ]
  },
  {
   "cell_type": "code",
   "execution_count": null,
   "id": "vital-pennsylvania",
   "metadata": {},
   "outputs": [],
   "source": [
    "mostCategoresProducedByCountry('United States of America')"
   ]
  },
  {
   "cell_type": "markdown",
   "id": "provincial-virtue",
   "metadata": {},
   "source": [
    "### United Kingdom"
   ]
  },
  {
   "cell_type": "code",
   "execution_count": null,
   "id": "refined-macedonia",
   "metadata": {},
   "outputs": [],
   "source": [
    "mostCategoresProducedByCountry('United Kingdom')"
   ]
  },
  {
   "cell_type": "markdown",
   "id": "empty-desperate",
   "metadata": {},
   "source": [
    "### France"
   ]
  },
  {
   "cell_type": "code",
   "execution_count": null,
   "id": "refined-decline",
   "metadata": {},
   "outputs": [],
   "source": [
    "mostCategoresProducedByCountry('France')"
   ]
  },
  {
   "cell_type": "markdown",
   "id": "independent-muscle",
   "metadata": {},
   "source": [
    "### Correlations in Movies Metadata"
   ]
  },
  {
   "cell_type": "code",
   "execution_count": null,
   "id": "binary-sequence",
   "metadata": {},
   "outputs": [],
   "source": [
    "plt.figure(figsize = (15,8))\n",
    "heatmap = sns.heatmap(movies.corr(), annot=True, cmap='YlGnBu')\n",
    "heatmap.set_title('Correlation Heatmap', fontdict={'fontsize':16}, pad=12)\n",
    "plt.show()"
   ]
  },
  {
   "cell_type": "markdown",
   "id": "understood-jesus",
   "metadata": {},
   "source": [
    "## We relate credits dataset with Movies Metadata"
   ]
  },
  {
   "cell_type": "code",
   "execution_count": null,
   "id": "concerned-colonial",
   "metadata": {},
   "outputs": [],
   "source": [
    "credits = pd.read_csv('credits.csv')\n",
    "credits.head(5)"
   ]
  },
  {
   "cell_type": "code",
   "execution_count": null,
   "id": "liked-interference",
   "metadata": {},
   "outputs": [],
   "source": [
    "# Auxiliar function that return director of Movie and his genre (number)\n",
    "def getDirTuple(x:str):\n",
    "    for i in x:\n",
    "        if i['job'] == 'Director':\n",
    "            return [i['name'],i['gender']]\n",
    "    return [np.nan,0]\n",
    "\n",
    "# We know the gender value by this website: https://towardsdatascience.com/bechdel-test-comparing-female-representation-metrics-in-movies-6cbade15010f\n",
    "def getGender(x:str):\n",
    "    if x==2:\n",
    "        return 'male'\n",
    "    elif x==1:\n",
    "        return 'female'\n",
    "    elif x==0:\n",
    "        return 'unknown'\n",
    "    \n",
    "# We add director's name and gender (numeric value) in list\n",
    "credits['director_ls'] = credits['crew'].apply(lambda x: getDirTuple(literal_eval(x)))\n",
    "# We split director's name and gender in 2 new columns\n",
    "# https://stackoverflow.com/questions/35491274/split-a-pandas-column-of-lists-into-multiple-columns\n",
    "credits['director_name'], credits['director_gender'] = zip(*list(credits['director_ls'].values)) ##More efficient\n",
    "# Transform gender (numeric value) in string\n",
    "credits['director_gender'] = credits['director_gender'].apply(getGender)\n",
    "# we select each actor of the film\n",
    "credits['actors'] = credits['cast'].apply(lambda x: [i['name'] for i in literal_eval(x)])\n",
    "credits.head()"
   ]
  },
  {
   "cell_type": "code",
   "execution_count": null,
   "id": "varied-radio",
   "metadata": {},
   "outputs": [],
   "source": [
    "# Now, we merge the most relevant from Movie Metadata\n",
    "movies = movies.merge(credits,on='id')\n",
    "movies.head(2)"
   ]
  },
  {
   "cell_type": "markdown",
   "id": "private-translator",
   "metadata": {},
   "source": [
    "### Percentage according to the gender of the director"
   ]
  },
  {
   "cell_type": "code",
   "execution_count": null,
   "id": "hearing-acrylic",
   "metadata": {},
   "outputs": [],
   "source": [
    "gender_values = movies['director_gender'].value_counts()\n",
    "sc= go.Pie(labels=gender_values.index, values=gender_values.values)\n",
    "lyt = {'title':'Percentage according to the gender of the director'}\n",
    "fig = go.Figure(data=[sc],layout=lyt)\n",
    "fig.show()"
   ]
  },
  {
   "cell_type": "markdown",
   "id": "ranging-caribbean",
   "metadata": {},
   "source": [
    "## Highest-grossing films (without adjusted for inflation)"
   ]
  },
  {
   "cell_type": "code",
   "execution_count": null,
   "id": "interracial-failing",
   "metadata": {},
   "outputs": [],
   "source": [
    "# Both are equivalent function  but nlargest is more performant.\n",
    "# df_new = movies[['original_title','revenue']].sort_values(by=['revenue'],ascending=False)\n",
    "#df_new.head()\n",
    "index_revenues = movies['revenue'].nlargest(7).index\n",
    "most_revenues = movies[['original_title','revenue']].loc[index_revenues]\n",
    "most_revenues"
   ]
  },
  {
   "cell_type": "code",
   "execution_count": null,
   "id": "recent-translator",
   "metadata": {},
   "outputs": [],
   "source": [
    "sc= go.Bar(x=most_revenues['revenue'],\n",
    "           y=most_revenues['original_title'], orientation='h')\n",
    "\n",
    "lyt = {'title':'Highest-grossing films (without adjusted for inflation)',\n",
    "         'xaxis':{'title':'Revenue'},\n",
    "         'yaxis':{'title':'Title of film'}}\n",
    "\n",
    "fig = go.Figure(data=[sc],layout=lyt)\n",
    "\n",
    "fig.show()"
   ]
  },
  {
   "cell_type": "code",
   "execution_count": null,
   "id": "variable-telling",
   "metadata": {},
   "outputs": [],
   "source": [
    "# Most Popular Director"
   ]
  },
  {
   "cell_type": "code",
   "execution_count": null,
   "id": "defined-aspect",
   "metadata": {},
   "outputs": [],
   "source": [
    "n_director = movies['director_name'].value_counts()\n",
    "n_director"
   ]
  },
  {
   "cell_type": "code",
   "execution_count": null,
   "id": "sorted-sewing",
   "metadata": {},
   "outputs": [],
   "source": [
    "#TODO: perform inference\n",
    "# You can get higher directors according to the average ratings of their movies\n",
    "# percentage of male and female actors in movies\n",
    "# percentage of major movies that have spent money to make.\n",
    "\n"
   ]
  }
 ],
 "metadata": {
  "kernelspec": {
   "display_name": "venv",
   "language": "python",
   "name": "venv"
  },
  "language_info": {
   "codemirror_mode": {
    "name": "ipython",
    "version": 3
   },
   "file_extension": ".py",
   "mimetype": "text/x-python",
   "name": "python",
   "nbconvert_exporter": "python",
   "pygments_lexer": "ipython3",
   "version": "3.9.7"
  }
 },
 "nbformat": 4,
 "nbformat_minor": 5
}
